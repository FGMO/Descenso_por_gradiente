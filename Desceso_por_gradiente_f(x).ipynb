{
 "cells": [
  {
   "cell_type": "markdown",
   "metadata": {},
   "source": [
    "<p align=\"center\">\n",
    "   <img src=\"img/logo.png\">\n",
    "</p>"
   ]
  },
  {
   "cell_type": "markdown",
   "metadata": {},
   "source": [
    "## Descenso por gradiente f(x)"
   ]
  },
  {
   "cell_type": "markdown",
   "metadata": {},
   "source": [
    "### Boletín de prácticas 1\n",
    "**Alumno:** Frank Montalvo Ochoa<br/>\n",
    "**Fecha:** 19/05/2018\n",
    "\n",
    "### Objetivos:\n",
    "* Familiarizarse con los principales aspectos y etapas del método de descenso por gradiente.\n",
    "* Conocer y aplicar el método de descenso por gradiente para minimizar funciones sencillas.\n",
    "* Conocer cómo aplicar el proceso de descenso por gradiente de forma automatizada con soporte de **sympy** y **Jupyter Notebook*.\n",
    "\n",
    "### Enunciado:\n",
    "\n",
    "1. Seleccionar una función matemática para realizar el proceso de minimización. Ejecutar al menos **3 pasos** del método de descenso por gradiente. \n",
    "2. Diseñar y desarrollar un cuaderno en Jupyter Notebook donde se realicen todos los pasos correspondientes al proceso de minimización de la función a través del método de descenso por gradiente.\n",
    "3. El cuaderno deberá incluir los siguientes puntos:\n",
    "    1. Gráfica de la función y los puntos que se obtienen a medida que se ejecutan los pasos de cálculo (hasta $k=3$).\n",
    "    2. Aplicación de las funciones de derivación y evaluación de forma similar a la que se ha detallado en el presente cuaderno.\n",
    "    3. Incluir un acápite sobre las funciones cóncavas y los puntos estacionarios (incluir gráficos).\n",
    "    4. Emplear las funcionalidades que proveen los paquetes **matplotlib** y **sympy**.\n",
    "\n",
    "\n",
    "### Criterios de evaluación:\n",
    "Los criterios o rúbrica de evaluación del Boletín de Prácticas 1 son los siguientes:\n",
    "1. Adecuada complejidad de la función seleccionada para el proceso de minimización (procurar no usar funciones cóncavas).\n",
    "2. Correcta explicación y detalle de cada paso ejecutado con el método de descenso por gradiente.\n",
    "3. Verificación de la solución encontrada.\n",
    "4. Elementos extra: incluye recta (flecha) con la dirección del gradiente, animaciones, etc.\n",
    "\n",
    "### Prerrequisitos:\n",
    "A fin de poder realizar esta práctica, deberá contar con los siguientes prerrequisitos:\n",
    "1. Haber leído de forma completa el presente cuaderno.\n",
    "2. Tener instalados los siguientes paquetes en su computador:\n",
    "    1. Python 2.7+ (de preferencia 3.6+)\n",
    "    2. [Sympy](http://www.sympy.org)\n",
    "    3. [matplotlib](https://matplotlib.org/)"
   ]
  },
  {
   "cell_type": "markdown",
   "metadata": {},
   "source": [
    "### Resolución\n",
    "\n",
    "**Función a minimizar:**<br>\n",
    "<div style=\"text-align:center\">\n",
    "$f(x)=x^{3} + 3x^{2} - x$\n",
    "</div>\n",
    "\n",
    "**Punto inicial:**<br>\n",
    "<div style=\"text-align:center\">\n",
    "    $x^{(0)} = 4$\n",
    "</div>\n",
    "\n",
    "**Derivada:**<br>\n",
    "<div style=\"text-align:center\">\n",
    "    $f'(x) = 15x^{2} + 6x -1$\n",
    "</div>\n",
    "\n",
    "1. Evaluamos a nuestra función original y su derivada en el punto inicial que habíamos definido anteriormente:<br>\n",
    "<div style=\"text-align:center\">\n",
    "    <br>$f(4)=5(4)^{3} + 3(4)^{2} - 4$<br>\n",
    "    $f(4)=320 + 48 - 4$<br>\n",
    "    $f(4)=364$<br>\n",
    "    <br>$f'(4) = 15(4)^{2} + 6(4) - 1$<br>\n",
    "    $f'(4) = 240 + 24 - 1$<br>\n",
    "    $f'(4) = 263$<br>\n",
    "</div><br>\n",
    "\n",
    "2. Buscamos el punto $x^{(k+1)}$, para lo cual debemos calcular lo siguiente:\n",
    "<div style=\"text-align:center\">\n",
    "    <br>$x^{(1)}=x^{(0)}-t^{*}_{0} \\nabla f(x^{(0)})$<br>\n",
    "</div>\n",
    "\n",
    "    Sin embargo no conocemos el valor de $t^{*}_{0}$, por lo cual emplearemos la siguiente fórmula para poder despejarlo:\n",
    "<div style=\"text-align:center\">\n",
    "    <br />$\\theta^{'}(t)=-\\nabla f\\left( x^{(0)} - t \\nabla f(x^{(0)} \\right) \\nabla f(x^{(0)})$\n",
    "</div>\n",
    "\n",
    "    Reemplazamos en la función los valores que habíamos encontrado anteriormente:\n",
    "<div style=\"text-align:center\">\n",
    "    $\\theta^{'}(t)=-(15\\left( 4 - 263t \\right)^{2} + 6\\left( 4 - 263t \\right) -1)*263$<br>\n",
    "    $\\theta^{'}(t)=-(15\\left( 16 - 2104t + 69169t^{2} \\right) + 24 - 1578t -1 )*263$<br>\n",
    "    $\\theta^{'}(t)=-(240 - 31560t + 1037535t^{2} + 24 - 1578t -1 )*263$<br>\n",
    "    $\\theta^{'}(t)=-(1037535t^{2} - 33138t + 263)*263$<br>\n",
    "    $\\theta^{'}(t)=-272871705t^{2} + 8715294t - 69169$<br>\n",
    "</div>\n",
    "\n",
    "    Ahora buscamos las raíces de nuestra función: \n",
    "<div style=\"text-align:center\">\n",
    "    $t = \\frac{-b±\\sqrt{b^{2} - 4ac}}{2a}$<br>\n",
    "    <br>$t = \\frac{-8715294±\\sqrt{(8715294)^{2} - 4(272871705)(69169)}}{2(-272871705)}$<br>\n",
    "    <br>$t = \\frac{-8715294±\\sqrt{75956349506436 - 75497051852580}}{-545743410}$<br>\n",
    "    <br>$t = \\frac{-8715294±\\sqrt{459297653856}}{-545743410}$<br>\n",
    "    <br>$t = \\frac{-8715294±677715.0240742785}{-545743410}$<br>\n",
    "</div>\n",
    "\n",
    "\n",
    "<div style=\"width: 100%; text-align:center;\">\n",
    "    <div style=\"width: 50%;float:left;\">\n",
    "        <br>$t^{(1)} = \\frac{-8715294+677715.0240742785}{-545743410}$<br>\n",
    "        <br>$t^{(1)} = \\frac{-8037578.975925721}{-545743410}$<br>\n",
    "        <br>$t^{(1)} = 0.014727761854102317$<br>\n",
    "    </div>\n",
    "\n",
    "   <div style=\"width: 50%;float:right;\">\n",
    "        <br>$t^{(2)} = \\frac{-8715294-677715.0240742785}{-545743410}$<br>\n",
    "        <br>$t^{(2)} = \\frac{-8037578.975925721}{-545743410}$<br>\n",
    "        <br>$t^{(2)} = 0.01721140164399654$<br>\n",
    "   </div>\n",
    "<div>"
   ]
  },
  {
   "cell_type": "markdown",
   "metadata": {},
   "source": [
    "3. Una ves que hemos encontrado los valores de $t^{*}_{0}$ los podemos reemplazar en la función anterior para poder encontrar el punto $x^{(k+1)}$:\n",
    "\n",
    "<div style=\"width: 100%; text-align:center;\">\n",
    "   <div style=\"width: 50%;float:left;\">\n",
    "       <br>$x^{(1)} = 4 - 0.014727761854102317 * 263$<br>\n",
    "       $x^{(1)} = 4 - 3.8734013676289094$<br>\n",
    "       $x^{(1)} = 0.1265986323710906$<br>\n",
    "   </div>\n",
    "    \n",
    "   <div style=\"width: 50%;float:right;\">\n",
    "       <br>$x^{(1)} = 4 - 0.01721140164399654 * 263$<br>\n",
    "       $x^{(1)} = 4 - 4.5265986323710905$<br>\n",
    "       $x^{(1)} = -0.5265986323710905$<br>\n",
    "   </div>\n",
    "</div>"
   ]
  },
  {
   "cell_type": "markdown",
   "metadata": {},
   "source": [
    "4. Finalmente reemplazamos los puntos que encontramos en la función para encontrar el mínimo:\n",
    "\n",
    "<div style=\"text-align:center\">\n",
    "    <br>$f(0.1265986323710906)=5(0.1265986323710906)^{3} + 3(0.1265986323710906)^{2} - 0.1265986323710906$<br>\n",
    "    $f(0.1265986323710906)=0.010145116687235844 + 0.04808164115469164 - 0.1265986323710906$<br>\n",
    "    <br>$f(0.1265986323710906)=-0.0683718745291631$<br>\n",
    "</div>\n",
    "\n",
    "<div style=\"text-align:center\">\n",
    "    <br>$f(-0.5265986323710905)=5(-0.5265986323710905)^{3} + 3(-0.5265986323710905)^{2} + 0.5265986323710905$<br>\n",
    "    $f(-0.5265986323710905)=-0.7301451166872363 + 0.8319183588453087 + 0.5265986323710905$<br>\n",
    "    <br>$f(-0.5265986323710905)=0.628371874529163$<br>\n",
    "</div>\n",
    "\n",
    "<br>\n",
    "\n",
    "**Como podemos aprecias el mínimo de nuestra función es el punto:** $f(0.1265986323710906)=-0.0683718745291631$"
   ]
  },
  {
   "cell_type": "markdown",
   "metadata": {},
   "source": [
    "## Codigo en Python"
   ]
  },
  {
   "cell_type": "code",
   "execution_count": 2,
   "metadata": {},
   "outputs": [
    {
     "data": {
      "image/png": "[encoded data removed]",
      "text/plain": [
       "<Figure size 432x288 with 1 Axes>"
      ]
     },
     "metadata": {
      "needs_background": "light"
     },
     "output_type": "display_data"
    }
   ],
   "source": [
    "import matplotlib.pyplot as pp\n",
    "import numpy as np\n",
    "\n",
    "def fx(x):\n",
    "\treturn 5 * x**3 + 3 * x**2 - x\n",
    "\n",
    "puntos = np.arange(-7, 7, 0.5)\n",
    "y = fx(puntos)\n",
    "x_0 = 4\n",
    "pp.plot(puntos,y,c='red')\n",
    "pp.plot(x_0,fx(x_0),'bo')\n",
    "pp.grid(True)\n",
    "pp.show()"
   ]
  },
  {
   "cell_type": "code",
   "execution_count": 7,
   "metadata": {},
   "outputs": [
    {
     "name": "stdout",
     "output_type": "stream",
     "text": [
      "y = 5*x**3 + 3*x**2 - x\n",
      "y/dx = 15*x**2 + 6*x - 1\n",
      "x(0) = 4\n",
      "x_k: -263.0*t + 4\n",
      "th: -272871705.0*t**2 + 8715294.0*t - 69169.0\n",
      "raices:  [0.0147277618541023, 0.0172114016439965]\n",
      "x1_1: 0.126598632371091\n",
      "x1_2: -0.526598632371091\n",
      "minimo: -0.0683718745291631\n"
     ]
    },
    {
     "data": {
      "image/png": "[encoded data removed]",
      "text/plain": [
       "<Figure size 432x288 with 1 Axes>"
      ]
     },
     "metadata": {
      "needs_background": "light"
     },
     "output_type": "display_data"
    }
   ],
   "source": [
    "from sympy import Function, Symbol, diff, solve\n",
    "\n",
    "x = Symbol('x')\n",
    "f_x = Function('fx')(x)\n",
    "t = Symbol('t')\n",
    "f_t = Function('ft')(t)\n",
    "\n",
    "x_0 = 4\n",
    "\n",
    "y = 5 * x**3 + 3 * x**2 - x\n",
    "y_dx = y.diff(x)\n",
    "\n",
    "print('y =', y)\n",
    "print('y/dx =',y_dx)\n",
    "print('x(0) =', x_0)\n",
    "\n",
    "x_k = x_0 - t * y_dx.subs(x, x_0).evalf()\n",
    "print('x_k:', x_k)\n",
    "\n",
    "th = - y_dx.subs(x, x_k) * y_dx.subs(x, x_0).evalf()\n",
    "print('th:', th.expand())\n",
    "\n",
    "r = solve(th)\n",
    "\n",
    "print(\"raices: \", r)\n",
    "\n",
    "x1_1 = x_k.subs(t, r[0]).evalf()\n",
    "x1_2 = x_k.subs(t, r[1]).evalf()\n",
    "\n",
    "print('x1_1:', x1_1)\n",
    "print('x1_2:', x1_2)\n",
    "\n",
    "print('minimo:', y.subs(x, x_k.subs(t, r[0]).evalf()).evalf())\n",
    "\n",
    "puntos = np.arange(-7, 7, 0.5)\n",
    "y = fx(puntos)\n",
    "pp.plot(puntos,y,c='red')\n",
    "pp.plot(x1_1,fx(x1_1),'bo')\n",
    "pp.grid(True)\n",
    "pp.show()"
   ]
  },
  {
   "cell_type": "markdown",
   "metadata": {},
   "source": [
    "[Repositorio Github](https://github.com/FGMO/Descenso_por_gradiente/)"
   ]
  },
  {
   "cell_type": "code",
   "execution_count": null,
   "metadata": {},
   "outputs": [],
   "source": []
  }
 ],
 "metadata": {
  "kernelspec": {
   "display_name": "Python 3",
   "language": "python",
   "name": "python3"
  },
  "language_info": {
   "codemirror_mode": {
    "name": "ipython",
    "version": 3
   },
   "file_extension": ".py",
   "mimetype": "text/x-python",
   "name": "python",
   "nbconvert_exporter": "python",
   "pygments_lexer": "ipython3",
   "version": "3.7.1"
  }
 },
 "nbformat": 4,
 "nbformat_minor": 2
}
